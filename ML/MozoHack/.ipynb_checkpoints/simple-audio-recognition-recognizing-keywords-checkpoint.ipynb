{
 "cells": [
  {
   "cell_type": "markdown",
   "metadata": {
    "id": "fluF3_oOgkWF",
    "papermill": {
     "duration": 0.04465,
     "end_time": "2020-12-18T19:11:14.170835",
     "exception": false,
     "start_time": "2020-12-18T19:11:14.126185",
     "status": "completed"
    },
    "tags": []
   },
   "source": [
    "##### Copyright 2020 The TensorFlow Authors."
   ]
  },
  {
   "cell_type": "code",
   "execution_count": 1,
   "metadata": {
    "cellView": "form",
    "execution": {
     "iopub.execute_input": "2020-12-18T19:11:14.265190Z",
     "iopub.status.busy": "2020-12-18T19:11:14.264176Z",
     "iopub.status.idle": "2020-12-18T19:11:14.267638Z",
     "shell.execute_reply": "2020-12-18T19:11:14.266878Z"
    },
    "id": "AJs7HHFmg1M9",
    "papermill": {
     "duration": 0.05359,
     "end_time": "2020-12-18T19:11:14.267778",
     "exception": false,
     "start_time": "2020-12-18T19:11:14.214188",
     "status": "completed"
    },
    "tags": []
   },
   "outputs": [],
   "source": [
    "#@title Licensed under the Apache License, Version 2.0 (the \"License\");\n",
    "# you may not use this file except in compliance with the License.\n",
    "# You may obtain a copy of the License at\n",
    "#\n",
    "# https://www.apache.org/licenses/LICENSE-2.0\n",
    "#\n",
    "# Unless required by applicable law or agreed to in writing, software\n",
    "# distributed under the License is distributed on an \"AS IS\" BASIS,\n",
    "# WITHOUT WARRANTIES OR CONDITIONS OF ANY KIND, either express or implied.\n",
    "# See the License for the specific language governing permissions and\n",
    "# limitations under the License."
   ]
  },
  {
   "cell_type": "markdown",
   "metadata": {
    "id": "jYysdyb-CaWM",
    "papermill": {
     "duration": 0.042637,
     "end_time": "2020-12-18T19:11:14.353233",
     "exception": false,
     "start_time": "2020-12-18T19:11:14.310596",
     "status": "completed"
    },
    "tags": []
   },
   "source": [
    "# Simple audio recognition: Recognizing keywords"
   ]
  },
  {
   "cell_type": "markdown",
   "metadata": {
    "id": "CNbqmZy0gbyE",
    "papermill": {
     "duration": 0.042536,
     "end_time": "2020-12-18T19:11:14.440101",
     "exception": false,
     "start_time": "2020-12-18T19:11:14.397565",
     "status": "completed"
    },
    "tags": []
   },
   "source": [
    "<table class=\"tfo-notebook-buttons\" align=\"left\">\n",
    "  <td>\n",
    "    <a target=\"_blank\" href=\"https://www.tensorflow.org/tutorials/audio/simple_audio\">\n",
    "    <img src=\"https://www.tensorflow.org/images/tf_logo_32px.png\" />\n",
    "    View on TensorFlow.org</a>\n",
    "  </td>\n",
    "  <td>\n",
    "    <a target=\"_blank\" href=\"https://colab.research.google.com/github/tensorflow/docs/blob/master/site/en/tutorials/audio/simple_audio.ipynb\">\n",
    "    <img src=\"https://www.tensorflow.org/images/colab_logo_32px.png\" />\n",
    "    Run in Google Colab</a>\n",
    "  </td>\n",
    "  <td>\n",
    "    <a target=\"_blank\" href=\"https://github.com/tensorflow/docs/blob/master/site/en/tutorials/audio/simple_audio.ipynb\">\n",
    "    <img src=\"https://www.tensorflow.org/images/GitHub-Mark-32px.png\" />\n",
    "    View source on GitHub</a>\n",
    "  </td>\n",
    "  <td>\n",
    "    <a href=\"https://storage.googleapis.com/tensorflow_docs/docs/site/en/tutorials/audio/simple_audio.ipynb\"><img src=\"https://www.tensorflow.org/images/download_logo_32px.png\" />Download notebook</a>\n",
    "  </td>\n",
    "</table>"
   ]
  },
  {
   "cell_type": "markdown",
   "metadata": {
    "id": "SPfDNFlb66XF",
    "papermill": {
     "duration": 0.045371,
     "end_time": "2020-12-18T19:11:14.528623",
     "exception": false,
     "start_time": "2020-12-18T19:11:14.483252",
     "status": "completed"
    },
    "tags": []
   },
   "source": [
    "This tutorial will show you how to build a basic speech recognition network that recognizes ten different words. It's important to know that real speech and audio recognition systems are much more complex, but like MNIST for images, it should give you a basic understanding of the techniques involved. Once you've completed this tutorial, you'll have a model that tries to classify a one second audio clip as \"down\", \"go\", \"left\", \"no\", \"right\", \"stop\", \"up\" and \"yes\"."
   ]
  },
  {
   "cell_type": "markdown",
   "metadata": {
    "id": "Go9C3uLL8Izc",
    "papermill": {
     "duration": 0.042959,
     "end_time": "2020-12-18T19:11:14.617713",
     "exception": false,
     "start_time": "2020-12-18T19:11:14.574754",
     "status": "completed"
    },
    "tags": []
   },
   "source": [
    "## Setup\n",
    "\n",
    "Import necessary modules and dependencies."
   ]
  },
  {
   "cell_type": "code",
   "execution_count": 2,
   "metadata": {
    "execution": {
     "iopub.execute_input": "2020-12-18T19:11:14.713292Z",
     "iopub.status.busy": "2020-12-18T19:11:14.712495Z",
     "iopub.status.idle": "2020-12-18T19:11:22.458588Z",
     "shell.execute_reply": "2020-12-18T19:11:22.457726Z"
    },
    "id": "dzLKpmZICaWN",
    "papermill": {
     "duration": 7.79745,
     "end_time": "2020-12-18T19:11:22.458729",
     "exception": false,
     "start_time": "2020-12-18T19:11:14.661279",
     "status": "completed"
    },
    "tags": []
   },
   "outputs": [],
   "source": [
    "import os\n",
    "import pathlib\n",
    "\n",
    "import matplotlib.pyplot as plt\n",
    "import numpy as np\n",
    "import seaborn as sns\n",
    "import tensorflow as tf\n",
    "\n",
    "from tensorflow.keras.layers.experimental import preprocessing\n",
    "from tensorflow.keras import layers\n",
    "from tensorflow.keras import models\n",
    "from IPython import display\n",
    "\n",
    "\n",
    "# Set seed for experiment reproducibility\n",
    "seed = 42\n",
    "tf.random.set_seed(seed)\n",
    "np.random.seed(seed)"
   ]
  },
  {
   "cell_type": "markdown",
   "metadata": {
    "id": "yR0EdgrLCaWR",
    "papermill": {
     "duration": 0.043595,
     "end_time": "2020-12-18T19:11:22.545586",
     "exception": false,
     "start_time": "2020-12-18T19:11:22.501991",
     "status": "completed"
    },
    "tags": []
   },
   "source": [
    "## Import the Speech Commands dataset\n",
    "\n",
    "You'll write a script to download a portion of the [Speech Commands dataset](https://www.tensorflow.org/datasets/catalog/speech_commands). The original dataset consists of over 105,000 WAV audio files of people saying thirty different words. This data was collected by Google and released under a CC BY license, and you can help improve it by [contributing five minutes of your own voice](https://aiyprojects.withgoogle.com/open_speech_recording).\n",
    "\n",
    "You'll be using a portion of the dataset to save time with data loading. Extract the `mini_speech_commands.zip` and load it in using the `tf.data` API."
   ]
  },
  {
   "cell_type": "code",
   "execution_count": 3,
   "metadata": {
    "execution": {
     "iopub.execute_input": "2020-12-18T19:11:22.642679Z",
     "iopub.status.busy": "2020-12-18T19:11:22.640437Z",
     "iopub.status.idle": "2020-12-18T19:11:29.606013Z",
     "shell.execute_reply": "2020-12-18T19:11:29.605212Z"
    },
    "id": "2-rayb7-3Y0I",
    "papermill": {
     "duration": 7.016803,
     "end_time": "2020-12-18T19:11:29.606155",
     "exception": false,
     "start_time": "2020-12-18T19:11:22.589352",
     "status": "completed"
    },
    "tags": []
   },
   "outputs": [],
   "source": [
    "data_dir = pathlib.Path('data/mini_speech_commands')\n",
    "if not data_dir.exists():\n",
    "      tf.keras.utils.get_file(\n",
    "      'mini_speech_commands.zip',\n",
    "      origin=\"http://storage.googleapis.com/download.tensorflow.org/data/mini_speech_commands.zip\",\n",
    "      extract=True,\n",
    "      cache_dir='.', cache_subdir='data')"
   ]
  },
  {
   "cell_type": "markdown",
   "metadata": {
    "id": "BgvFq3uYiS5G",
    "papermill": {
     "duration": 0.050884,
     "end_time": "2020-12-18T19:11:29.711260",
     "exception": false,
     "start_time": "2020-12-18T19:11:29.660376",
     "status": "completed"
    },
    "tags": []
   },
   "source": [
    "Check basic statistics about the dataset."
   ]
  },
  {
   "cell_type": "code",
   "execution_count": 4,
   "metadata": {
    "execution": {
     "iopub.execute_input": "2020-12-18T19:11:29.820779Z",
     "iopub.status.busy": "2020-12-18T19:11:29.819916Z",
     "iopub.status.idle": "2020-12-18T19:11:29.826072Z",
     "shell.execute_reply": "2020-12-18T19:11:29.825193Z"
    },
    "id": "70IBxSKxA1N9",
    "papermill": {
     "duration": 0.063422,
     "end_time": "2020-12-18T19:11:29.826251",
     "exception": false,
     "start_time": "2020-12-18T19:11:29.762829",
     "status": "completed"
    },
    "tags": []
   },
   "outputs": [
    {
     "name": "stdout",
     "output_type": "stream",
     "text": [
      "Commands: ['up' 'stop' 'no' 'go' 'down' 'right' 'yes' 'left']\n"
     ]
    }
   ],
   "source": [
    "commands = np.array(tf.io.gfile.listdir(str(data_dir)))\n",
    "commands = commands[commands != 'README.md']\n",
    "print('Commands:', commands)"
   ]
  },
  {
   "cell_type": "markdown",
   "metadata": {
    "id": "aMvdU9SY8WXN",
    "papermill": {
     "duration": 0.05196,
     "end_time": "2020-12-18T19:11:29.932526",
     "exception": false,
     "start_time": "2020-12-18T19:11:29.880566",
     "status": "completed"
    },
    "tags": []
   },
   "source": [
    "Extract the audio files into a list and shuffle it."
   ]
  },
  {
   "cell_type": "code",
   "execution_count": 5,
   "metadata": {
    "execution": {
     "iopub.execute_input": "2020-12-18T19:11:30.047471Z",
     "iopub.status.busy": "2020-12-18T19:11:30.046483Z",
     "iopub.status.idle": "2020-12-18T19:11:30.178362Z",
     "shell.execute_reply": "2020-12-18T19:11:30.177234Z"
    },
    "id": "hlX685l1wD9k",
    "papermill": {
     "duration": 0.194269,
     "end_time": "2020-12-18T19:11:30.178540",
     "exception": false,
     "start_time": "2020-12-18T19:11:29.984271",
     "status": "completed"
    },
    "tags": []
   },
   "outputs": [
    {
     "name": "stdout",
     "output_type": "stream",
     "text": [
      "Number of total examples: 8000\n",
      "Number of examples per label: 1000\n",
      "Example file tensor: tf.Tensor(b'data/mini_speech_commands/yes/48e8b82a_nohash_0.wav', shape=(), dtype=string)\n"
     ]
    }
   ],
   "source": [
    "filenames = tf.io.gfile.glob(str(data_dir) + '/*/*')\n",
    "filenames = tf.random.shuffle(filenames)\n",
    "num_samples = len(filenames)\n",
    "print('Number of total examples:', num_samples)\n",
    "print('Number of examples per label:',\n",
    "      len(tf.io.gfile.listdir(str(data_dir/commands[0]))))\n",
    "print('Example file tensor:', filenames[0])"
   ]
  },
  {
   "cell_type": "markdown",
   "metadata": {
    "id": "9vK3ymy23MCP",
    "papermill": {
     "duration": 0.052106,
     "end_time": "2020-12-18T19:11:30.284869",
     "exception": false,
     "start_time": "2020-12-18T19:11:30.232763",
     "status": "completed"
    },
    "tags": []
   },
   "source": [
    "Split the files into training, validation and test sets using a 80:10:10 ratio, respectively."
   ]
  },
  {
   "cell_type": "code",
   "execution_count": 6,
   "metadata": {
    "execution": {
     "iopub.execute_input": "2020-12-18T19:11:30.397807Z",
     "iopub.status.busy": "2020-12-18T19:11:30.396959Z",
     "iopub.status.idle": "2020-12-18T19:11:30.403952Z",
     "shell.execute_reply": "2020-12-18T19:11:30.403140Z"
    },
    "id": "Cv_wts-l3KgD",
    "papermill": {
     "duration": 0.066716,
     "end_time": "2020-12-18T19:11:30.404082",
     "exception": false,
     "start_time": "2020-12-18T19:11:30.337366",
     "status": "completed"
    },
    "tags": []
   },
   "outputs": [
    {
     "name": "stdout",
     "output_type": "stream",
     "text": [
      "Training set size 6400\n",
      "Validation set size 800\n",
      "Test set size 800\n"
     ]
    }
   ],
   "source": [
    "train_files = filenames[:6400]\n",
    "val_files = filenames[6400: 6400 + 800]\n",
    "test_files = filenames[-800:]\n",
    "\n",
    "print('Training set size', len(train_files))\n",
    "print('Validation set size', len(val_files))\n",
    "print('Test set size', len(test_files))"
   ]
  },
  {
   "cell_type": "markdown",
   "metadata": {
    "id": "g2Cj9FyvfweD",
    "papermill": {
     "duration": 0.052798,
     "end_time": "2020-12-18T19:11:30.510224",
     "exception": false,
     "start_time": "2020-12-18T19:11:30.457426",
     "status": "completed"
    },
    "tags": []
   },
   "source": [
    "## Reading audio files and their labels"
   ]
  },
  {
   "cell_type": "markdown",
   "metadata": {
    "id": "j1zjcWteOcBy",
    "papermill": {
     "duration": 0.052493,
     "end_time": "2020-12-18T19:11:30.616756",
     "exception": false,
     "start_time": "2020-12-18T19:11:30.564263",
     "status": "completed"
    },
    "tags": []
   },
   "source": [
    "The audio file will initially be read as a binary file, which you'll want to convert into a numerical tensor.\n",
    "\n",
    "To load an audio file, you will use [`tf.audio.decode_wav`](https://www.tensorflow.org/api_docs/python/tf/audio/decode_wav), which returns the WAV-encoded audio as a Tensor and the sample rate.\n",
    "\n",
    "A WAV file contains time series data with a set number of samples per second. \n",
    "Each sample represents the amplitude of the audio signal at that specific time. In a 16-bit system, like the files in `mini_speech_commands`, the values range from -32768 to 32767. \n",
    "The sample rate for this dataset is 16kHz.\n",
    "Note that `tf.audio.decode_wav` will normalize the values to the range [-1.0, 1.0]."
   ]
  },
  {
   "cell_type": "code",
   "execution_count": 7,
   "metadata": {
    "execution": {
     "iopub.execute_input": "2020-12-18T19:11:30.730710Z",
     "iopub.status.busy": "2020-12-18T19:11:30.729848Z",
     "iopub.status.idle": "2020-12-18T19:11:30.733832Z",
     "shell.execute_reply": "2020-12-18T19:11:30.733023Z"
    },
    "id": "9PjJ2iXYwftD",
    "papermill": {
     "duration": 0.063524,
     "end_time": "2020-12-18T19:11:30.733980",
     "exception": false,
     "start_time": "2020-12-18T19:11:30.670456",
     "status": "completed"
    },
    "tags": []
   },
   "outputs": [],
   "source": [
    "def decode_audio(audio_binary):\n",
    "    audio, _ = tf.audio.decode_wav(audio_binary)\n",
    "    return tf.squeeze(audio, axis=-1)"
   ]
  },
  {
   "cell_type": "markdown",
   "metadata": {
    "id": "GPQseZElOjVN",
    "papermill": {
     "duration": 0.0531,
     "end_time": "2020-12-18T19:11:30.840703",
     "exception": false,
     "start_time": "2020-12-18T19:11:30.787603",
     "status": "completed"
    },
    "tags": []
   },
   "source": [
    "The label for each WAV file is its parent directory."
   ]
  },
  {
   "cell_type": "code",
   "execution_count": 8,
   "metadata": {
    "execution": {
     "iopub.execute_input": "2020-12-18T19:11:30.954130Z",
     "iopub.status.busy": "2020-12-18T19:11:30.953101Z",
     "iopub.status.idle": "2020-12-18T19:11:30.957243Z",
     "shell.execute_reply": "2020-12-18T19:11:30.956472Z"
    },
    "id": "8VTtX1nr3YT-",
    "papermill": {
     "duration": 0.06404,
     "end_time": "2020-12-18T19:11:30.957393",
     "exception": false,
     "start_time": "2020-12-18T19:11:30.893353",
     "status": "completed"
    },
    "tags": []
   },
   "outputs": [],
   "source": [
    "def get_label(file_path):\n",
    "    parts = tf.strings.split(file_path, os.path.sep)\n",
    "\n",
    "    # Note: You'll use indexing here instead of tuple unpacking to enable this \n",
    "    # to work in a TensorFlow graph.\n",
    "    return parts[-2] "
   ]
  },
  {
   "cell_type": "markdown",
   "metadata": {
    "id": "E8Y9w_5MOsr-",
    "papermill": {
     "duration": 0.052694,
     "end_time": "2020-12-18T19:11:31.063940",
     "exception": false,
     "start_time": "2020-12-18T19:11:31.011246",
     "status": "completed"
    },
    "tags": []
   },
   "source": [
    "Let's define a method that will take in the filename of the WAV file and output a tuple containing the audio and labels for supervised training."
   ]
  },
  {
   "cell_type": "code",
   "execution_count": 9,
   "metadata": {
    "execution": {
     "iopub.execute_input": "2020-12-18T19:11:31.176281Z",
     "iopub.status.busy": "2020-12-18T19:11:31.175151Z",
     "iopub.status.idle": "2020-12-18T19:11:31.178825Z",
     "shell.execute_reply": "2020-12-18T19:11:31.178191Z"
    },
    "id": "WdgUD5T93NyT",
    "papermill": {
     "duration": 0.062227,
     "end_time": "2020-12-18T19:11:31.178944",
     "exception": false,
     "start_time": "2020-12-18T19:11:31.116717",
     "status": "completed"
    },
    "tags": []
   },
   "outputs": [],
   "source": [
    "def get_waveform_and_label(file_path):\n",
    "    label = get_label(file_path)\n",
    "    audio_binary = tf.io.read_file(file_path)\n",
    "    waveform = decode_audio(audio_binary)\n",
    "    return waveform, label"
   ]
  },
  {
   "cell_type": "markdown",
   "metadata": {
    "id": "nvN8W_dDjYjc",
    "papermill": {
     "duration": 0.052074,
     "end_time": "2020-12-18T19:11:31.285064",
     "exception": false,
     "start_time": "2020-12-18T19:11:31.232990",
     "status": "completed"
    },
    "tags": []
   },
   "source": [
    "You will now apply `process_path` to build your training set to extract the audio-label pairs and check the results. You'll build the validation and test sets using a similar procedure later on."
   ]
  },
  {
   "cell_type": "code",
   "execution_count": 10,
   "metadata": {
    "execution": {
     "iopub.execute_input": "2020-12-18T19:11:31.397241Z",
     "iopub.status.busy": "2020-12-18T19:11:31.396489Z",
     "iopub.status.idle": "2020-12-18T19:11:31.678769Z",
     "shell.execute_reply": "2020-12-18T19:11:31.677951Z"
    },
    "id": "0SQl8yXl3kNP",
    "papermill": {
     "duration": 0.341793,
     "end_time": "2020-12-18T19:11:31.678899",
     "exception": false,
     "start_time": "2020-12-18T19:11:31.337106",
     "status": "completed"
    },
    "tags": []
   },
   "outputs": [],
   "source": [
    "AUTOTUNE = tf.data.experimental.AUTOTUNE\n",
    "files_ds = tf.data.Dataset.from_tensor_slices(train_files)\n",
    "waveform_ds = files_ds.map(get_waveform_and_label, num_parallel_calls=AUTOTUNE)"
   ]
  },
  {
   "cell_type": "markdown",
   "metadata": {
    "id": "voxGEwvuh2L7",
    "papermill": {
     "duration": 0.052145,
     "end_time": "2020-12-18T19:11:31.783556",
     "exception": false,
     "start_time": "2020-12-18T19:11:31.731411",
     "status": "completed"
    },
    "tags": []
   },
   "source": [
    "Let's examine a few audio waveforms with their corresponding labels."
   ]
  },
  {
   "cell_type": "code",
   "execution_count": 11,
   "metadata": {
    "execution": {
     "iopub.execute_input": "2020-12-18T19:11:31.899254Z",
     "iopub.status.busy": "2020-12-18T19:11:31.898482Z",
     "iopub.status.idle": "2020-12-18T19:11:33.419774Z",
     "shell.execute_reply": "2020-12-18T19:11:33.418833Z"
    },
    "id": "8yuX6Nqzf6wT",
    "papermill": {
     "duration": 1.584055,
     "end_time": "2020-12-18T19:11:33.419991",
     "exception": false,
     "start_time": "2020-12-18T19:11:31.835936",
     "status": "completed"
    },
    "tags": []
   },
   "outputs": [
    {
     "data": {
      "image/png": "[encoded data removed]",
      "text/plain": [
       "<Figure size 720x864 with 9 Axes>"
      ]
     },
     "metadata": {
      "needs_background": "light"
     },
     "output_type": "display_data"
    }
   ],
   "source": [
    "rows = 3\n",
    "cols = 3\n",
    "n = rows*cols\n",
    "fig, axes = plt.subplots(rows, cols, figsize=(10, 12))\n",
    "for i, (audio, label) in enumerate(waveform_ds.take(n)):\n",
    "    r = i // cols\n",
    "    c = i % cols\n",
    "    ax = axes[r][c]\n",
    "    ax.plot(audio.numpy())\n",
    "    ax.set_yticks(np.arange(-1.2, 1.2, 0.2))\n",
    "    label = label.numpy().decode('utf-8')\n",
    "    ax.set_title(label)\n",
    "\n",
    "plt.show()"
   ]
  },
  {
   "cell_type": "markdown",
   "metadata": {
    "id": "EWXPphxm0B4m",
    "papermill": {
     "duration": 0.053799,
     "end_time": "2020-12-18T19:11:33.533657",
     "exception": false,
     "start_time": "2020-12-18T19:11:33.479858",
     "status": "completed"
    },
    "tags": []
   },
   "source": [
    "## Spectrogram\n",
    "\n",
    "You'll convert the waveform into a spectrogram, which shows frequency changes over time and can be represented as a 2D image. This can be done by applying the short-time Fourier transform (STFT) to convert the audio into the time-frequency domain.\n",
    "\n",
    "A Fourier transform ([`tf.signal.fft`](https://www.tensorflow.org/api_docs/python/tf/signal/fft)) converts a signal to its component frequencies, but loses all time information. The STFT ([`tf.signal.stft`](https://www.tensorflow.org/api_docs/python/tf/signal/stft)) splits the signal into windows of time and runs a Fourier transform on each window, preserving some time information, and returning a 2D tensor that you can run standard convolutions on.\n",
    "\n",
    "STFT produces an array of complex numbers representing magnitude and phase. However, you'll only need the magnitude for this tutorial, which can be derived by applying `tf.abs` on the output of `tf.signal.stft`. \n",
    "\n",
    "Choose `frame_length` and `frame_step` parameters such that the generated spectrogram \"image\" is almost square. For more information on STFT parameters choice, you can refer to [this video](https://www.coursera.org/lecture/audio-signal-processing/stft-2-tjEQe) on audio signal processing. \n",
    "\n",
    "You also want the waveforms to have the same length, so that when you convert it to a spectrogram image, the results will have similar dimensions. This can be done by simply zero padding the audio clips that are shorter than one second.\n"
   ]
  },
  {
   "cell_type": "code",
   "execution_count": 12,
   "metadata": {
    "execution": {
     "iopub.execute_input": "2020-12-18T19:11:33.658211Z",
     "iopub.status.busy": "2020-12-18T19:11:33.657042Z",
     "iopub.status.idle": "2020-12-18T19:11:33.660919Z",
     "shell.execute_reply": "2020-12-18T19:11:33.661555Z"
    },
    "id": "_4CK75DHz_OR",
    "papermill": {
     "duration": 0.06774,
     "end_time": "2020-12-18T19:11:33.661714",
     "exception": false,
     "start_time": "2020-12-18T19:11:33.593974",
     "status": "completed"
    },
    "tags": []
   },
   "outputs": [],
   "source": [
    "def get_spectrogram(waveform):\n",
    "  # Padding for files with less than 16000 samples\n",
    "    zero_padding = tf.zeros([16000] - tf.shape(waveform), dtype=tf.float32)\n",
    "\n",
    "    # Concatenate audio with padding so that all audio clips will be of the \n",
    "    # same length\n",
    "    waveform = tf.cast(waveform, tf.float32)\n",
    "    equal_length = tf.concat([waveform, zero_padding], 0)\n",
    "    spectrogram = tf.signal.stft(\n",
    "      equal_length, frame_length=255, frame_step=128)\n",
    "\n",
    "    spectrogram = tf.abs(spectrogram)\n",
    "\n",
    "  return spectrogram"
   ]
  },
  {
   "cell_type": "markdown",
   "metadata": {
    "id": "5rdPiPYJphs2",
    "papermill": {
     "duration": 0.054561,
     "end_time": "2020-12-18T19:11:33.773272",
     "exception": false,
     "start_time": "2020-12-18T19:11:33.718711",
     "status": "completed"
    },
    "tags": []
   },
   "source": [
    "Next, you will explore the data. Compare the waveform, the spectrogram and the actual audio of one example from the dataset."
   ]
  },
  {
   "cell_type": "code",
   "execution_count": 13,
   "metadata": {
    "execution": {
     "iopub.execute_input": "2020-12-18T19:11:33.890833Z",
     "iopub.status.busy": "2020-12-18T19:11:33.890004Z",
     "iopub.status.idle": "2020-12-18T19:11:34.001419Z",
     "shell.execute_reply": "2020-12-18T19:11:34.000652Z"
    },
    "id": "4Mu6Y7Yz3C-V",
    "papermill": {
     "duration": 0.173968,
     "end_time": "2020-12-18T19:11:34.001567",
     "exception": false,
     "start_time": "2020-12-18T19:11:33.827599",
     "status": "completed"
    },
    "tags": []
   },
   "outputs": [
    {
     "name": "stdout",
     "output_type": "stream",
     "text": [
      "Label: yes\n",
      "Waveform shape: (16000,)\n",
      "Spectrogram shape: (124, 129)\n",
      "Audio playback\n"
     ]
    },
    {
     "data": {
      "text/html": [
       "\n",
       "                <audio  controls=\"controls\" >\n",
       "                    <source src=\"data:audio/wav;base64,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\" type=\"audio/wav\" />\n",
       "                    Your browser does not support the audio element.\n",
       "                </audio>\n",
       "              "
      ],
      "text/plain": [
       "<IPython.lib.display.Audio object>"
      ]
     },
     "metadata": {},
     "output_type": "display_data"
    }
   ],
   "source": [
    "for waveform, label in waveform_ds.take(1):\n",
    "    label = label.numpy().decode('utf-8')\n",
    "    spectrogram = get_spectrogram(waveform)\n",
    "\n",
    "print('Label:', label)\n",
    "print('Waveform shape:', waveform.shape)\n",
    "print('Spectrogram shape:', spectrogram.shape)\n",
    "print('Audio playback')\n",
    "display.display(display.Audio(waveform, rate=16000))"
   ]
  },
  {
   "cell_type": "code",
   "execution_count": 14,
   "metadata": {
    "execution": {
     "iopub.execute_input": "2020-12-18T19:11:34.135591Z",
     "iopub.status.busy": "2020-12-18T19:11:34.127391Z",
     "iopub.status.idle": "2020-12-18T19:11:34.534715Z",
     "shell.execute_reply": "2020-12-18T19:11:34.535475Z"
    },
    "id": "e62jzb36-Jog",
    "papermill": {
     "duration": 0.476239,
     "end_time": "2020-12-18T19:11:34.535688",
     "exception": false,
     "start_time": "2020-12-18T19:11:34.059449",
     "status": "completed"
    },
    "tags": []
   },
   "outputs": [
    {
     "name": "stderr",
     "output_type": "stream",
     "text": [
      "<ipython-input-14-117dc0850110>:8: MatplotlibDeprecationWarning: shading='flat' when X and Y have the same dimensions as C is deprecated since 3.3.  Either specify the corners of the quadrilaterals with X and Y, or pass shading='auto', 'nearest' or 'gouraud', or set rcParams['pcolor.shading'].  This will become an error two minor releases later.\n",
      "  ax.pcolormesh(X, Y, log_spec)\n"
     ]
    },
    {
     "data": {
      "image/png": "[encoded data removed]",
      "text/plain": [
       "<Figure size 864x576 with 2 Axes>"
      ]
     },
     "metadata": {
      "needs_background": "light"
     },
     "output_type": "display_data"
    }
   ],
   "source": [
    "def plot_spectrogram(spectrogram, ax):\n",
    "  # Convert to frequencies to log scale and transpose so that the time is\n",
    "    # represented in the x-axis (columns).\n",
    "    log_spec = np.log(spectrogram.T)\n",
    "    height = log_spec.shape[0]\n",
    "    X = np.arange(16000, step=height + 1)\n",
    "    Y = range(height)\n",
    "    ax.pcolormesh(X, Y, log_spec)\n",
    "\n",
    "\n",
    "fig, axes = plt.subplots(2, figsize=(12, 8))\n",
    "timescale = np.arange(waveform.shape[0])\n",
    "axes[0].plot(timescale, waveform.numpy())\n",
    "axes[0].set_title('Waveform')\n",
    "axes[0].set_xlim([0, 16000])\n",
    "plot_spectrogram(spectrogram.numpy(), axes[1])\n",
    "axes[1].set_title('Spectrogram')\n",
    "plt.show()"
   ]
  },
  {
   "cell_type": "markdown",
   "metadata": {
    "id": "GyYXjW07jCHA",
    "papermill": {
     "duration": 0.058991,
     "end_time": "2020-12-18T19:11:34.655892",
     "exception": false,
     "start_time": "2020-12-18T19:11:34.596901",
     "status": "completed"
    },
    "tags": []
   },
   "source": [
    "Now transform the waveform dataset to have spectrogram images and their corresponding labels as integer IDs."
   ]
  },
  {
   "cell_type": "code",
   "execution_count": 15,
   "metadata": {
    "execution": {
     "iopub.execute_input": "2020-12-18T19:11:34.783311Z",
     "iopub.status.busy": "2020-12-18T19:11:34.782229Z",
     "iopub.status.idle": "2020-12-18T19:11:34.785843Z",
     "shell.execute_reply": "2020-12-18T19:11:34.785212Z"
    },
    "id": "43IS2IouEV40",
    "papermill": {
     "duration": 0.07028,
     "end_time": "2020-12-18T19:11:34.785974",
     "exception": false,
     "start_time": "2020-12-18T19:11:34.715694",
     "status": "completed"
    },
    "tags": []
   },
   "outputs": [],
   "source": [
    "def get_spectrogram_and_label_id(audio, label):\n",
    "    spectrogram = get_spectrogram(audio)\n",
    "    spectrogram = tf.expand_dims(spectrogram, -1)\n",
    "    label_id = tf.argmax(label == commands)\n",
    "    return spectrogram, label_id"
   ]
  },
  {
   "cell_type": "code",
   "execution_count": 16,
   "metadata": {
    "execution": {
     "iopub.execute_input": "2020-12-18T19:11:34.932113Z",
     "iopub.status.busy": "2020-12-18T19:11:34.912269Z",
     "iopub.status.idle": "2020-12-18T19:11:35.159682Z",
     "shell.execute_reply": "2020-12-18T19:11:35.158891Z"
    },
    "id": "yEVb_oK0oBLQ",
    "papermill": {
     "duration": 0.314584,
     "end_time": "2020-12-18T19:11:35.159808",
     "exception": false,
     "start_time": "2020-12-18T19:11:34.845224",
     "status": "completed"
    },
    "tags": []
   },
   "outputs": [
    {
     "ename": "TypeError",
     "evalue": "in user code:\n\n    <ipython-input-15-ba115cf804f4>:4 get_spectrogram_and_label_id  *\n        label_id = tf.argmax(label == commands)\n    /home/kush/.local/lib/python3.8/site-packages/tensorflow/python/ops/math_ops.py:173 argmax_v2  **\n        return gen_math_ops.arg_max(input, axis, name=name, output_type=output_type)\n    /home/kush/.local/lib/python3.8/site-packages/tensorflow/python/ops/gen_math_ops.py:847 arg_max\n        _, _, _op, _outputs = _op_def_library._apply_op_helper(\n    /home/kush/.local/lib/python3.8/site-packages/tensorflow/python/framework/op_def_library.py:576 _apply_op_helper\n        _SatisfiesTypeConstraint(base_type,\n    /home/kush/.local/lib/python3.8/site-packages/tensorflow/python/framework/op_def_library.py:57 _SatisfiesTypeConstraint\n        raise TypeError(\n\n    TypeError: Value passed to parameter 'input' has DataType bool not in list of allowed values: float32, float64, int32, uint8, int16, int8, complex64, int64, qint8, quint8, qint32, bfloat16, uint16, complex128, float16, uint32, uint64\n",
     "output_type": "error",
     "traceback": [
      "\u001b[0;31m---------------------------------------------------------------------------\u001b[0m",
      "\u001b[0;31mTypeError\u001b[0m                                 Traceback (most recent call last)",
      "\u001b[0;32m<ipython-input-16-cccbd4885d35>\u001b[0m in \u001b[0;36m<module>\u001b[0;34m\u001b[0m\n\u001b[0;32m----> 1\u001b[0;31m spectrogram_ds = waveform_ds.map(\n\u001b[0m\u001b[1;32m      2\u001b[0m     get_spectrogram_and_label_id, num_parallel_calls=AUTOTUNE)\n",
      "\u001b[0;32m~/.local/lib/python3.8/site-packages/tensorflow/python/data/ops/dataset_ops.py\u001b[0m in \u001b[0;36mmap\u001b[0;34m(self, map_func, num_parallel_calls, deterministic)\u001b[0m\n\u001b[1;32m   1621\u001b[0m       \u001b[0;32mreturn\u001b[0m \u001b[0mMapDataset\u001b[0m\u001b[0;34m(\u001b[0m\u001b[0mself\u001b[0m\u001b[0;34m,\u001b[0m \u001b[0mmap_func\u001b[0m\u001b[0;34m,\u001b[0m \u001b[0mpreserve_cardinality\u001b[0m\u001b[0;34m=\u001b[0m\u001b[0;32mTrue\u001b[0m\u001b[0;34m)\u001b[0m\u001b[0;34m\u001b[0m\u001b[0;34m\u001b[0m\u001b[0m\n\u001b[1;32m   1622\u001b[0m     \u001b[0;32melse\u001b[0m\u001b[0;34m:\u001b[0m\u001b[0;34m\u001b[0m\u001b[0;34m\u001b[0m\u001b[0m\n\u001b[0;32m-> 1623\u001b[0;31m       return ParallelMapDataset(\n\u001b[0m\u001b[1;32m   1624\u001b[0m           \u001b[0mself\u001b[0m\u001b[0;34m,\u001b[0m\u001b[0;34m\u001b[0m\u001b[0;34m\u001b[0m\u001b[0m\n\u001b[1;32m   1625\u001b[0m           \u001b[0mmap_func\u001b[0m\u001b[0;34m,\u001b[0m\u001b[0;34m\u001b[0m\u001b[0;34m\u001b[0m\u001b[0m\n",
      "\u001b[0;32m~/.local/lib/python3.8/site-packages/tensorflow/python/data/ops/dataset_ops.py\u001b[0m in \u001b[0;36m__init__\u001b[0;34m(self, input_dataset, map_func, num_parallel_calls, deterministic, use_inter_op_parallelism, preserve_cardinality, use_legacy_function)\u001b[0m\n\u001b[1;32m   4014\u001b[0m     \u001b[0mself\u001b[0m\u001b[0;34m.\u001b[0m\u001b[0m_input_dataset\u001b[0m \u001b[0;34m=\u001b[0m \u001b[0minput_dataset\u001b[0m\u001b[0;34m\u001b[0m\u001b[0;34m\u001b[0m\u001b[0m\n\u001b[1;32m   4015\u001b[0m     \u001b[0mself\u001b[0m\u001b[0;34m.\u001b[0m\u001b[0m_use_inter_op_parallelism\u001b[0m \u001b[0;34m=\u001b[0m \u001b[0muse_inter_op_parallelism\u001b[0m\u001b[0;34m\u001b[0m\u001b[0;34m\u001b[0m\u001b[0m\n\u001b[0;32m-> 4016\u001b[0;31m     self._map_func = StructuredFunctionWrapper(\n\u001b[0m\u001b[1;32m   4017\u001b[0m         \u001b[0mmap_func\u001b[0m\u001b[0;34m,\u001b[0m\u001b[0;34m\u001b[0m\u001b[0;34m\u001b[0m\u001b[0m\n\u001b[1;32m   4018\u001b[0m         \u001b[0mself\u001b[0m\u001b[0;34m.\u001b[0m\u001b[0m_transformation_name\u001b[0m\u001b[0;34m(\u001b[0m\u001b[0;34m)\u001b[0m\u001b[0;34m,\u001b[0m\u001b[0;34m\u001b[0m\u001b[0;34m\u001b[0m\u001b[0m\n",
      "\u001b[0;32m~/.local/lib/python3.8/site-packages/tensorflow/python/data/ops/dataset_ops.py\u001b[0m in \u001b[0;36m__init__\u001b[0;34m(self, func, transformation_name, dataset, input_classes, input_shapes, input_types, input_structure, add_to_graph, use_legacy_function, defun_kwargs)\u001b[0m\n\u001b[1;32m   3219\u001b[0m       \u001b[0;32mwith\u001b[0m \u001b[0mtracking\u001b[0m\u001b[0;34m.\u001b[0m\u001b[0mresource_tracker_scope\u001b[0m\u001b[0;34m(\u001b[0m\u001b[0mresource_tracker\u001b[0m\u001b[0;34m)\u001b[0m\u001b[0;34m:\u001b[0m\u001b[0;34m\u001b[0m\u001b[0;34m\u001b[0m\u001b[0m\n\u001b[1;32m   3220\u001b[0m         \u001b[0;31m# TODO(b/141462134): Switch to using garbage collection.\u001b[0m\u001b[0;34m\u001b[0m\u001b[0;34m\u001b[0m\u001b[0;34m\u001b[0m\u001b[0m\n\u001b[0;32m-> 3221\u001b[0;31m         \u001b[0mself\u001b[0m\u001b[0;34m.\u001b[0m\u001b[0m_function\u001b[0m \u001b[0;34m=\u001b[0m \u001b[0mwrapper_fn\u001b[0m\u001b[0;34m.\u001b[0m\u001b[0mget_concrete_function\u001b[0m\u001b[0;34m(\u001b[0m\u001b[0;34m)\u001b[0m\u001b[0;34m\u001b[0m\u001b[0;34m\u001b[0m\u001b[0m\n\u001b[0m\u001b[1;32m   3222\u001b[0m \u001b[0;34m\u001b[0m\u001b[0m\n\u001b[1;32m   3223\u001b[0m         \u001b[0;32mif\u001b[0m \u001b[0madd_to_graph\u001b[0m\u001b[0;34m:\u001b[0m\u001b[0;34m\u001b[0m\u001b[0;34m\u001b[0m\u001b[0m\n",
      "\u001b[0;32m~/.local/lib/python3.8/site-packages/tensorflow/python/eager/function.py\u001b[0m in \u001b[0;36mget_concrete_function\u001b[0;34m(self, *args, **kwargs)\u001b[0m\n\u001b[1;32m   2529\u001b[0m       \u001b[0;34m**\u001b[0m\u001b[0mkwargs\u001b[0m\u001b[0;34m:\u001b[0m \u001b[0minputs\u001b[0m \u001b[0mto\u001b[0m \u001b[0mspecialize\u001b[0m \u001b[0mon\u001b[0m\u001b[0;34m.\u001b[0m\u001b[0;34m\u001b[0m\u001b[0;34m\u001b[0m\u001b[0m\n\u001b[1;32m   2530\u001b[0m     \"\"\"\n\u001b[0;32m-> 2531\u001b[0;31m     graph_function = self._get_concrete_function_garbage_collected(\n\u001b[0m\u001b[1;32m   2532\u001b[0m         *args, **kwargs)\n\u001b[1;32m   2533\u001b[0m     \u001b[0mgraph_function\u001b[0m\u001b[0;34m.\u001b[0m\u001b[0m_garbage_collector\u001b[0m\u001b[0;34m.\u001b[0m\u001b[0mrelease\u001b[0m\u001b[0;34m(\u001b[0m\u001b[0;34m)\u001b[0m  \u001b[0;31m# pylint: disable=protected-access\u001b[0m\u001b[0;34m\u001b[0m\u001b[0;34m\u001b[0m\u001b[0m\n",
      "\u001b[0;32m~/.local/lib/python3.8/site-packages/tensorflow/python/eager/function.py\u001b[0m in \u001b[0;36m_get_concrete_function_garbage_collected\u001b[0;34m(self, *args, **kwargs)\u001b[0m\n\u001b[1;32m   2494\u001b[0m       \u001b[0margs\u001b[0m\u001b[0;34m,\u001b[0m \u001b[0mkwargs\u001b[0m \u001b[0;34m=\u001b[0m \u001b[0;32mNone\u001b[0m\u001b[0;34m,\u001b[0m \u001b[0;32mNone\u001b[0m\u001b[0;34m\u001b[0m\u001b[0;34m\u001b[0m\u001b[0m\n\u001b[1;32m   2495\u001b[0m     \u001b[0;32mwith\u001b[0m \u001b[0mself\u001b[0m\u001b[0;34m.\u001b[0m\u001b[0m_lock\u001b[0m\u001b[0;34m:\u001b[0m\u001b[0;34m\u001b[0m\u001b[0;34m\u001b[0m\u001b[0m\n\u001b[0;32m-> 2496\u001b[0;31m       \u001b[0mgraph_function\u001b[0m\u001b[0;34m,\u001b[0m \u001b[0margs\u001b[0m\u001b[0;34m,\u001b[0m \u001b[0mkwargs\u001b[0m \u001b[0;34m=\u001b[0m \u001b[0mself\u001b[0m\u001b[0;34m.\u001b[0m\u001b[0m_maybe_define_function\u001b[0m\u001b[0;34m(\u001b[0m\u001b[0margs\u001b[0m\u001b[0;34m,\u001b[0m \u001b[0mkwargs\u001b[0m\u001b[0;34m)\u001b[0m\u001b[0;34m\u001b[0m\u001b[0;34m\u001b[0m\u001b[0m\n\u001b[0m\u001b[1;32m   2497\u001b[0m       \u001b[0;32mif\u001b[0m \u001b[0mself\u001b[0m\u001b[0;34m.\u001b[0m\u001b[0minput_signature\u001b[0m\u001b[0;34m:\u001b[0m\u001b[0;34m\u001b[0m\u001b[0;34m\u001b[0m\u001b[0m\n\u001b[1;32m   2498\u001b[0m         \u001b[0margs\u001b[0m \u001b[0;34m=\u001b[0m \u001b[0mself\u001b[0m\u001b[0;34m.\u001b[0m\u001b[0minput_signature\u001b[0m\u001b[0;34m\u001b[0m\u001b[0;34m\u001b[0m\u001b[0m\n",
      "\u001b[0;32m~/.local/lib/python3.8/site-packages/tensorflow/python/eager/function.py\u001b[0m in \u001b[0;36m_maybe_define_function\u001b[0;34m(self, args, kwargs)\u001b[0m\n\u001b[1;32m   2775\u001b[0m \u001b[0;34m\u001b[0m\u001b[0m\n\u001b[1;32m   2776\u001b[0m       \u001b[0mself\u001b[0m\u001b[0;34m.\u001b[0m\u001b[0m_function_cache\u001b[0m\u001b[0;34m.\u001b[0m\u001b[0mmissed\u001b[0m\u001b[0;34m.\u001b[0m\u001b[0madd\u001b[0m\u001b[0;34m(\u001b[0m\u001b[0mcall_context_key\u001b[0m\u001b[0;34m)\u001b[0m\u001b[0;34m\u001b[0m\u001b[0;34m\u001b[0m\u001b[0m\n\u001b[0;32m-> 2777\u001b[0;31m       \u001b[0mgraph_function\u001b[0m \u001b[0;34m=\u001b[0m \u001b[0mself\u001b[0m\u001b[0;34m.\u001b[0m\u001b[0m_create_graph_function\u001b[0m\u001b[0;34m(\u001b[0m\u001b[0margs\u001b[0m\u001b[0;34m,\u001b[0m \u001b[0mkwargs\u001b[0m\u001b[0;34m)\u001b[0m\u001b[0;34m\u001b[0m\u001b[0;34m\u001b[0m\u001b[0m\n\u001b[0m\u001b[1;32m   2778\u001b[0m       \u001b[0mself\u001b[0m\u001b[0;34m.\u001b[0m\u001b[0m_function_cache\u001b[0m\u001b[0;34m.\u001b[0m\u001b[0mprimary\u001b[0m\u001b[0;34m[\u001b[0m\u001b[0mcache_key\u001b[0m\u001b[0;34m]\u001b[0m \u001b[0;34m=\u001b[0m \u001b[0mgraph_function\u001b[0m\u001b[0;34m\u001b[0m\u001b[0;34m\u001b[0m\u001b[0m\n\u001b[1;32m   2779\u001b[0m       \u001b[0;32mreturn\u001b[0m \u001b[0mgraph_function\u001b[0m\u001b[0;34m,\u001b[0m \u001b[0margs\u001b[0m\u001b[0;34m,\u001b[0m \u001b[0mkwargs\u001b[0m\u001b[0;34m\u001b[0m\u001b[0;34m\u001b[0m\u001b[0m\n",
      "\u001b[0;32m~/.local/lib/python3.8/site-packages/tensorflow/python/eager/function.py\u001b[0m in \u001b[0;36m_create_graph_function\u001b[0;34m(self, args, kwargs, override_flat_arg_shapes)\u001b[0m\n\u001b[1;32m   2655\u001b[0m     \u001b[0marg_names\u001b[0m \u001b[0;34m=\u001b[0m \u001b[0mbase_arg_names\u001b[0m \u001b[0;34m+\u001b[0m \u001b[0mmissing_arg_names\u001b[0m\u001b[0;34m\u001b[0m\u001b[0;34m\u001b[0m\u001b[0m\n\u001b[1;32m   2656\u001b[0m     graph_function = ConcreteFunction(\n\u001b[0;32m-> 2657\u001b[0;31m         func_graph_module.func_graph_from_py_func(\n\u001b[0m\u001b[1;32m   2658\u001b[0m             \u001b[0mself\u001b[0m\u001b[0;34m.\u001b[0m\u001b[0m_name\u001b[0m\u001b[0;34m,\u001b[0m\u001b[0;34m\u001b[0m\u001b[0;34m\u001b[0m\u001b[0m\n\u001b[1;32m   2659\u001b[0m             \u001b[0mself\u001b[0m\u001b[0;34m.\u001b[0m\u001b[0m_python_function\u001b[0m\u001b[0;34m,\u001b[0m\u001b[0;34m\u001b[0m\u001b[0;34m\u001b[0m\u001b[0m\n",
      "\u001b[0;32m~/.local/lib/python3.8/site-packages/tensorflow/python/framework/func_graph.py\u001b[0m in \u001b[0;36mfunc_graph_from_py_func\u001b[0;34m(name, python_func, args, kwargs, signature, func_graph, autograph, autograph_options, add_control_dependencies, arg_names, op_return_value, collections, capture_by_value, override_flat_arg_shapes)\u001b[0m\n\u001b[1;32m    979\u001b[0m         \u001b[0m_\u001b[0m\u001b[0;34m,\u001b[0m \u001b[0moriginal_func\u001b[0m \u001b[0;34m=\u001b[0m \u001b[0mtf_decorator\u001b[0m\u001b[0;34m.\u001b[0m\u001b[0munwrap\u001b[0m\u001b[0;34m(\u001b[0m\u001b[0mpython_func\u001b[0m\u001b[0;34m)\u001b[0m\u001b[0;34m\u001b[0m\u001b[0;34m\u001b[0m\u001b[0m\n\u001b[1;32m    980\u001b[0m \u001b[0;34m\u001b[0m\u001b[0m\n\u001b[0;32m--> 981\u001b[0;31m       \u001b[0mfunc_outputs\u001b[0m \u001b[0;34m=\u001b[0m \u001b[0mpython_func\u001b[0m\u001b[0;34m(\u001b[0m\u001b[0;34m*\u001b[0m\u001b[0mfunc_args\u001b[0m\u001b[0;34m,\u001b[0m \u001b[0;34m**\u001b[0m\u001b[0mfunc_kwargs\u001b[0m\u001b[0;34m)\u001b[0m\u001b[0;34m\u001b[0m\u001b[0;34m\u001b[0m\u001b[0m\n\u001b[0m\u001b[1;32m    982\u001b[0m \u001b[0;34m\u001b[0m\u001b[0m\n\u001b[1;32m    983\u001b[0m       \u001b[0;31m# invariant: `func_outputs` contains only Tensors, CompositeTensors,\u001b[0m\u001b[0;34m\u001b[0m\u001b[0;34m\u001b[0m\u001b[0;34m\u001b[0m\u001b[0m\n",
      "\u001b[0;32m~/.local/lib/python3.8/site-packages/tensorflow/python/data/ops/dataset_ops.py\u001b[0m in \u001b[0;36mwrapper_fn\u001b[0;34m(*args)\u001b[0m\n\u001b[1;32m   3212\u001b[0m           attributes=defun_kwargs)\n\u001b[1;32m   3213\u001b[0m       \u001b[0;32mdef\u001b[0m \u001b[0mwrapper_fn\u001b[0m\u001b[0;34m(\u001b[0m\u001b[0;34m*\u001b[0m\u001b[0margs\u001b[0m\u001b[0;34m)\u001b[0m\u001b[0;34m:\u001b[0m  \u001b[0;31m# pylint: disable=missing-docstring\u001b[0m\u001b[0;34m\u001b[0m\u001b[0;34m\u001b[0m\u001b[0m\n\u001b[0;32m-> 3214\u001b[0;31m         \u001b[0mret\u001b[0m \u001b[0;34m=\u001b[0m \u001b[0m_wrapper_helper\u001b[0m\u001b[0;34m(\u001b[0m\u001b[0;34m*\u001b[0m\u001b[0margs\u001b[0m\u001b[0;34m)\u001b[0m\u001b[0;34m\u001b[0m\u001b[0;34m\u001b[0m\u001b[0m\n\u001b[0m\u001b[1;32m   3215\u001b[0m         \u001b[0mret\u001b[0m \u001b[0;34m=\u001b[0m \u001b[0mstructure\u001b[0m\u001b[0;34m.\u001b[0m\u001b[0mto_tensor_list\u001b[0m\u001b[0;34m(\u001b[0m\u001b[0mself\u001b[0m\u001b[0;34m.\u001b[0m\u001b[0m_output_structure\u001b[0m\u001b[0;34m,\u001b[0m \u001b[0mret\u001b[0m\u001b[0;34m)\u001b[0m\u001b[0;34m\u001b[0m\u001b[0;34m\u001b[0m\u001b[0m\n\u001b[1;32m   3216\u001b[0m         \u001b[0;32mreturn\u001b[0m \u001b[0;34m[\u001b[0m\u001b[0mops\u001b[0m\u001b[0;34m.\u001b[0m\u001b[0mconvert_to_tensor\u001b[0m\u001b[0;34m(\u001b[0m\u001b[0mt\u001b[0m\u001b[0;34m)\u001b[0m \u001b[0;32mfor\u001b[0m \u001b[0mt\u001b[0m \u001b[0;32min\u001b[0m \u001b[0mret\u001b[0m\u001b[0;34m]\u001b[0m\u001b[0;34m\u001b[0m\u001b[0;34m\u001b[0m\u001b[0m\n",
      "\u001b[0;32m~/.local/lib/python3.8/site-packages/tensorflow/python/data/ops/dataset_ops.py\u001b[0m in \u001b[0;36m_wrapper_helper\u001b[0;34m(*args)\u001b[0m\n\u001b[1;32m   3154\u001b[0m         \u001b[0mnested_args\u001b[0m \u001b[0;34m=\u001b[0m \u001b[0;34m(\u001b[0m\u001b[0mnested_args\u001b[0m\u001b[0;34m,\u001b[0m\u001b[0;34m)\u001b[0m\u001b[0;34m\u001b[0m\u001b[0;34m\u001b[0m\u001b[0m\n\u001b[1;32m   3155\u001b[0m \u001b[0;34m\u001b[0m\u001b[0m\n\u001b[0;32m-> 3156\u001b[0;31m       \u001b[0mret\u001b[0m \u001b[0;34m=\u001b[0m \u001b[0mautograph\u001b[0m\u001b[0;34m.\u001b[0m\u001b[0mtf_convert\u001b[0m\u001b[0;34m(\u001b[0m\u001b[0mfunc\u001b[0m\u001b[0;34m,\u001b[0m \u001b[0mag_ctx\u001b[0m\u001b[0;34m)\u001b[0m\u001b[0;34m(\u001b[0m\u001b[0;34m*\u001b[0m\u001b[0mnested_args\u001b[0m\u001b[0;34m)\u001b[0m\u001b[0;34m\u001b[0m\u001b[0;34m\u001b[0m\u001b[0m\n\u001b[0m\u001b[1;32m   3157\u001b[0m       \u001b[0;31m# If `func` returns a list of tensors, `nest.flatten()` and\u001b[0m\u001b[0;34m\u001b[0m\u001b[0;34m\u001b[0m\u001b[0;34m\u001b[0m\u001b[0m\n\u001b[1;32m   3158\u001b[0m       \u001b[0;31m# `ops.convert_to_tensor()` would conspire to attempt to stack\u001b[0m\u001b[0;34m\u001b[0m\u001b[0;34m\u001b[0m\u001b[0;34m\u001b[0m\u001b[0m\n",
      "\u001b[0;32m~/.local/lib/python3.8/site-packages/tensorflow/python/autograph/impl/api.py\u001b[0m in \u001b[0;36mwrapper\u001b[0;34m(*args, **kwargs)\u001b[0m\n\u001b[1;32m    263\u001b[0m       \u001b[0;32mexcept\u001b[0m \u001b[0mException\u001b[0m \u001b[0;32mas\u001b[0m \u001b[0me\u001b[0m\u001b[0;34m:\u001b[0m  \u001b[0;31m# pylint:disable=broad-except\u001b[0m\u001b[0;34m\u001b[0m\u001b[0;34m\u001b[0m\u001b[0m\n\u001b[1;32m    264\u001b[0m         \u001b[0;32mif\u001b[0m \u001b[0mhasattr\u001b[0m\u001b[0;34m(\u001b[0m\u001b[0me\u001b[0m\u001b[0;34m,\u001b[0m \u001b[0;34m'ag_error_metadata'\u001b[0m\u001b[0;34m)\u001b[0m\u001b[0;34m:\u001b[0m\u001b[0;34m\u001b[0m\u001b[0;34m\u001b[0m\u001b[0m\n\u001b[0;32m--> 265\u001b[0;31m           \u001b[0;32mraise\u001b[0m \u001b[0me\u001b[0m\u001b[0;34m.\u001b[0m\u001b[0mag_error_metadata\u001b[0m\u001b[0;34m.\u001b[0m\u001b[0mto_exception\u001b[0m\u001b[0;34m(\u001b[0m\u001b[0me\u001b[0m\u001b[0;34m)\u001b[0m\u001b[0;34m\u001b[0m\u001b[0;34m\u001b[0m\u001b[0m\n\u001b[0m\u001b[1;32m    266\u001b[0m         \u001b[0;32melse\u001b[0m\u001b[0;34m:\u001b[0m\u001b[0;34m\u001b[0m\u001b[0;34m\u001b[0m\u001b[0m\n\u001b[1;32m    267\u001b[0m           \u001b[0;32mraise\u001b[0m\u001b[0;34m\u001b[0m\u001b[0;34m\u001b[0m\u001b[0m\n",
      "\u001b[0;31mTypeError\u001b[0m: in user code:\n\n    <ipython-input-15-ba115cf804f4>:4 get_spectrogram_and_label_id  *\n        label_id = tf.argmax(label == commands)\n    /home/kush/.local/lib/python3.8/site-packages/tensorflow/python/ops/math_ops.py:173 argmax_v2  **\n        return gen_math_ops.arg_max(input, axis, name=name, output_type=output_type)\n    /home/kush/.local/lib/python3.8/site-packages/tensorflow/python/ops/gen_math_ops.py:847 arg_max\n        _, _, _op, _outputs = _op_def_library._apply_op_helper(\n    /home/kush/.local/lib/python3.8/site-packages/tensorflow/python/framework/op_def_library.py:576 _apply_op_helper\n        _SatisfiesTypeConstraint(base_type,\n    /home/kush/.local/lib/python3.8/site-packages/tensorflow/python/framework/op_def_library.py:57 _SatisfiesTypeConstraint\n        raise TypeError(\n\n    TypeError: Value passed to parameter 'input' has DataType bool not in list of allowed values: float32, float64, int32, uint8, int16, int8, complex64, int64, qint8, quint8, qint32, bfloat16, uint16, complex128, float16, uint32, uint64\n"
     ]
    }
   ],
   "source": [
    "spectrogram_ds = waveform_ds.map(\n",
    "    get_spectrogram_and_label_id, num_parallel_calls=AUTOTUNE)"
   ]
  },
  {
   "cell_type": "markdown",
   "metadata": {
    "id": "6gQpAAgMnyDi",
    "papermill": {
     "duration": 0.059858,
     "end_time": "2020-12-18T19:11:35.280283",
     "exception": false,
     "start_time": "2020-12-18T19:11:35.220425",
     "status": "completed"
    },
    "tags": []
   },
   "source": [
    "Examine the spectrogram \"images\" for different samples of the dataset."
   ]
  },
  {
   "cell_type": "code",
   "execution_count": null,
   "metadata": {
    "execution": {
     "iopub.execute_input": "2020-12-18T19:11:35.420939Z",
     "iopub.status.busy": "2020-12-18T19:11:35.407529Z",
     "iopub.status.idle": "2020-12-18T19:11:36.229541Z",
     "shell.execute_reply": "2020-12-18T19:11:36.230129Z"
    },
    "id": "QUbHfTuon4iF",
    "papermill": {
     "duration": 0.890877,
     "end_time": "2020-12-18T19:11:36.230291",
     "exception": false,
     "start_time": "2020-12-18T19:11:35.339414",
     "status": "completed"
    },
    "tags": []
   },
   "outputs": [],
   "source": [
    "rows = 3\n",
    "cols = 3\n",
    "n = rows*cols\n",
    "fig, axes = plt.subplots(rows, cols, figsize=(10, 10))\n",
    "for i, (spectrogram, label_id) in enumerate(spectrogram_ds.take(n)):\n",
    "    r = i // cols\n",
    "    c = i % cols\n",
    "    ax = axes[r][c]\n",
    "    plot_spectrogram(np.squeeze(spectrogram.numpy()), ax)\n",
    "    ax.set_title(commands[label_id.numpy()])\n",
    "    ax.axis('off')\n",
    "plt.show()"
   ]
  },
  {
   "cell_type": "markdown",
   "metadata": {
    "id": "z5KdY8IF8rkt",
    "papermill": {
     "duration": 0.069032,
     "end_time": "2020-12-18T19:11:36.368281",
     "exception": false,
     "start_time": "2020-12-18T19:11:36.299249",
     "status": "completed"
    },
    "tags": []
   },
   "source": [
    "## Build and train the model\n",
    "\n",
    "Now you can build and train your model. But before you do that, you'll need to repeat the training set preprocessing on the validation and test sets."
   ]
  },
  {
   "cell_type": "code",
   "execution_count": null,
   "metadata": {
    "execution": {
     "iopub.execute_input": "2020-12-18T19:11:36.512567Z",
     "iopub.status.busy": "2020-12-18T19:11:36.511498Z",
     "iopub.status.idle": "2020-12-18T19:11:36.514734Z",
     "shell.execute_reply": "2020-12-18T19:11:36.513965Z"
    },
    "id": "10UI32QH_45b",
    "papermill": {
     "duration": 0.07844,
     "end_time": "2020-12-18T19:11:36.514866",
     "exception": false,
     "start_time": "2020-12-18T19:11:36.436426",
     "status": "completed"
    },
    "tags": []
   },
   "outputs": [],
   "source": [
    "def preprocess_dataset(files):\n",
    "    files_ds = tf.data.Dataset.from_tensor_slices(files)\n",
    "    output_ds = files_ds.map(get_waveform_and_label, num_parallel_calls=AUTOTUNE)\n",
    "    output_ds = output_ds.map(\n",
    "      get_spectrogram_and_label_id,  num_parallel_calls=AUTOTUNE)\n",
    "    return output_ds"
   ]
  },
  {
   "cell_type": "code",
   "execution_count": null,
   "metadata": {
    "execution": {
     "iopub.execute_input": "2020-12-18T19:11:36.663465Z",
     "iopub.status.busy": "2020-12-18T19:11:36.659797Z",
     "iopub.status.idle": "2020-12-18T19:11:36.919671Z",
     "shell.execute_reply": "2020-12-18T19:11:36.919001Z"
    },
    "id": "HNv4xwYkB2P6",
    "papermill": {
     "duration": 0.335752,
     "end_time": "2020-12-18T19:11:36.919808",
     "exception": false,
     "start_time": "2020-12-18T19:11:36.584056",
     "status": "completed"
    },
    "tags": []
   },
   "outputs": [],
   "source": [
    "train_ds = spectrogram_ds\n",
    "val_ds = preprocess_dataset(val_files)\n",
    "test_ds = preprocess_dataset(test_files)"
   ]
  },
  {
   "cell_type": "markdown",
   "metadata": {
    "id": "assnWo6SB3lR",
    "papermill": {
     "duration": 0.071264,
     "end_time": "2020-12-18T19:11:37.061514",
     "exception": false,
     "start_time": "2020-12-18T19:11:36.990250",
     "status": "completed"
    },
    "tags": []
   },
   "source": [
    "Batch the training and validation sets for model training."
   ]
  },
  {
   "cell_type": "code",
   "execution_count": null,
   "metadata": {
    "execution": {
     "iopub.execute_input": "2020-12-18T19:11:37.212162Z",
     "iopub.status.busy": "2020-12-18T19:11:37.211286Z",
     "iopub.status.idle": "2020-12-18T19:11:37.215268Z",
     "shell.execute_reply": "2020-12-18T19:11:37.215915Z"
    },
    "id": "UgY9WYzn61EX",
    "papermill": {
     "duration": 0.084477,
     "end_time": "2020-12-18T19:11:37.216083",
     "exception": false,
     "start_time": "2020-12-18T19:11:37.131606",
     "status": "completed"
    },
    "tags": []
   },
   "outputs": [],
   "source": [
    "batch_size = 64\n",
    "train_ds = train_ds.batch(batch_size)\n",
    "val_ds = val_ds.batch(batch_size)"
   ]
  },
  {
   "cell_type": "markdown",
   "metadata": {
    "id": "GS1uIh6F_TN9",
    "papermill": {
     "duration": 0.070525,
     "end_time": "2020-12-18T19:11:37.359399",
     "exception": false,
     "start_time": "2020-12-18T19:11:37.288874",
     "status": "completed"
    },
    "tags": []
   },
   "source": [
    "Add dataset [`cache()`](https://www.tensorflow.org/api_docs/python/tf/data/Dataset#cache) and [`prefetch()`](https://www.tensorflow.org/api_docs/python/tf/data/Dataset#prefetch) operations to reduce read latency while training the model."
   ]
  },
  {
   "cell_type": "code",
   "execution_count": null,
   "metadata": {
    "execution": {
     "iopub.execute_input": "2020-12-18T19:11:37.504550Z",
     "iopub.status.busy": "2020-12-18T19:11:37.503697Z",
     "iopub.status.idle": "2020-12-18T19:11:37.511039Z",
     "shell.execute_reply": "2020-12-18T19:11:37.510242Z"
    },
    "id": "fdZ6M-F5_QzY",
    "papermill": {
     "duration": 0.082341,
     "end_time": "2020-12-18T19:11:37.511164",
     "exception": false,
     "start_time": "2020-12-18T19:11:37.428823",
     "status": "completed"
    },
    "tags": []
   },
   "outputs": [],
   "source": [
    "train_ds = train_ds.cache().prefetch(AUTOTUNE)\n",
    "val_ds = val_ds.cache().prefetch(AUTOTUNE)"
   ]
  },
  {
   "cell_type": "markdown",
   "metadata": {
    "id": "rwHkKCQQb5oW",
    "papermill": {
     "duration": 0.068088,
     "end_time": "2020-12-18T19:11:37.648217",
     "exception": false,
     "start_time": "2020-12-18T19:11:37.580129",
     "status": "completed"
    },
    "tags": []
   },
   "source": [
    "For the model, you'll use a simple convolutional neural network (CNN), since you have transformed the audio files into spectrogram images.\n",
    "The model also has the following additional preprocessing layers:\n",
    "- A [`Resizing`](https://www.tensorflow.org/api_docs/python/tf/keras/layers/experimental/preprocessing/Resizing) layer to downsample the input to enable the model to train faster.\n",
    "- A [`Normalization`](https://www.tensorflow.org/api_docs/python/tf/keras/layers/experimental/preprocessing/Normalization) layer to normalize each pixel in the image based on its mean and standard deviation.\n",
    "\n",
    "For the `Normalization` layer, its `adapt` method would first need to be called on the training data in order to compute aggregate statistics (i.e. mean and standard deviation)."
   ]
  },
  {
   "cell_type": "code",
   "execution_count": null,
   "metadata": {
    "execution": {
     "iopub.execute_input": "2020-12-18T19:11:37.797390Z",
     "iopub.status.busy": "2020-12-18T19:11:37.794608Z",
     "iopub.status.idle": "2020-12-18T19:11:47.483710Z",
     "shell.execute_reply": "2020-12-18T19:11:47.482367Z"
    },
    "id": "ALYz7PFCHblP",
    "papermill": {
     "duration": 9.766353,
     "end_time": "2020-12-18T19:11:47.483899",
     "exception": false,
     "start_time": "2020-12-18T19:11:37.717546",
     "status": "completed"
    },
    "tags": []
   },
   "outputs": [],
   "source": [
    "for spectrogram, _ in spectrogram_ds.take(1):\n",
    "    input_shape = spectrogram.shape\n",
    "print('Input shape:', input_shape)\n",
    "num_labels = len(commands)\n",
    "\n",
    "norm_layer = preprocessing.Normalization()\n",
    "norm_layer.adapt(spectrogram_ds.map(lambda x, _: x))\n",
    "\n",
    "model = models.Sequential([\n",
    "    layers.Input(shape=input_shape),\n",
    "    preprocessing.Resizing(32, 32), \n",
    "    norm_layer,\n",
    "    layers.Conv2D(32, 3, activation='relu'),\n",
    "    layers.Conv2D(64, 3, activation='relu'),\n",
    "    layers.MaxPooling2D(),\n",
    "    layers.Dropout(0.25),\n",
    "    layers.Flatten(),\n",
    "    layers.Dense(128, activation='relu'),\n",
    "    layers.Dropout(0.5),\n",
    "    layers.Dense(num_labels),\n",
    "])\n",
    "\n",
    "model.summary()"
   ]
  },
  {
   "cell_type": "code",
   "execution_count": null,
   "metadata": {
    "execution": {
     "iopub.execute_input": "2020-12-18T19:11:47.646389Z",
     "iopub.status.busy": "2020-12-18T19:11:47.645189Z",
     "iopub.status.idle": "2020-12-18T19:11:47.654251Z",
     "shell.execute_reply": "2020-12-18T19:11:47.653495Z"
    },
    "id": "wFjj7-EmsTD-",
    "papermill": {
     "duration": 0.097885,
     "end_time": "2020-12-18T19:11:47.654393",
     "exception": false,
     "start_time": "2020-12-18T19:11:47.556508",
     "status": "completed"
    },
    "tags": []
   },
   "outputs": [],
   "source": [
    "model.compile(\n",
    "    optimizer=tf.keras.optimizers.Adam(),\n",
    "    loss=tf.keras.losses.SparseCategoricalCrossentropy(from_logits=True),\n",
    "    metrics=['accuracy'],\n",
    ")"
   ]
  },
  {
   "cell_type": "code",
   "execution_count": null,
   "metadata": {
    "execution": {
     "iopub.execute_input": "2020-12-18T19:11:47.802875Z",
     "iopub.status.busy": "2020-12-18T19:11:47.801978Z",
     "iopub.status.idle": "2020-12-18T19:14:17.187396Z",
     "shell.execute_reply": "2020-12-18T19:14:17.188082Z"
    },
    "id": "ttioPJVMcGtq",
    "papermill": {
     "duration": 149.462914,
     "end_time": "2020-12-18T19:14:17.188295",
     "exception": false,
     "start_time": "2020-12-18T19:11:47.725381",
     "status": "completed"
    },
    "tags": []
   },
   "outputs": [],
   "source": [
    "EPOCHS = 10\n",
    "history = model.fit(\n",
    "    train_ds, \n",
    "    validation_data=val_ds,  \n",
    "    epochs=EPOCHS,\n",
    "    callbacks=tf.keras.callbacks.EarlyStopping(verbose=1, patience=2),\n",
    ")"
   ]
  },
  {
   "cell_type": "markdown",
   "metadata": {
    "id": "gjpCDeQ4mUfS",
    "papermill": {
     "duration": 0.484858,
     "end_time": "2020-12-18T19:14:18.151468",
     "exception": false,
     "start_time": "2020-12-18T19:14:17.666610",
     "status": "completed"
    },
    "tags": []
   },
   "source": [
    "Let's check the training and validation loss curves to see how your model has improved during training."
   ]
  },
  {
   "cell_type": "code",
   "execution_count": null,
   "metadata": {
    "execution": {
     "iopub.execute_input": "2020-12-18T19:14:19.117372Z",
     "iopub.status.busy": "2020-12-18T19:14:19.116219Z",
     "iopub.status.idle": "2020-12-18T19:14:19.299319Z",
     "shell.execute_reply": "2020-12-18T19:14:19.298672Z"
    },
    "id": "nzhipg3Gu2AY",
    "papermill": {
     "duration": 0.671054,
     "end_time": "2020-12-18T19:14:19.299463",
     "exception": false,
     "start_time": "2020-12-18T19:14:18.628409",
     "status": "completed"
    },
    "tags": []
   },
   "outputs": [],
   "source": [
    "metrics = history.history\n",
    "plt.plot(history.epoch, metrics['loss'], metrics['val_loss'])\n",
    "plt.legend(['loss', 'val_loss'])\n",
    "plt.show()"
   ]
  },
  {
   "cell_type": "markdown",
   "metadata": {
    "id": "5ZTt3kO3mfm4",
    "papermill": {
     "duration": 0.480802,
     "end_time": "2020-12-18T19:14:20.255243",
     "exception": false,
     "start_time": "2020-12-18T19:14:19.774441",
     "status": "completed"
    },
    "tags": []
   },
   "source": [
    "## Evaluate test set performance\n",
    "\n",
    "Let's run the model on the test set and check performance."
   ]
  },
  {
   "cell_type": "code",
   "execution_count": null,
   "metadata": {
    "execution": {
     "iopub.execute_input": "2020-12-18T19:14:21.220138Z",
     "iopub.status.busy": "2020-12-18T19:14:21.219300Z",
     "iopub.status.idle": "2020-12-18T19:14:22.270632Z",
     "shell.execute_reply": "2020-12-18T19:14:22.269827Z"
    },
    "id": "biU2MwzyAo8o",
    "papermill": {
     "duration": 1.538021,
     "end_time": "2020-12-18T19:14:22.270771",
     "exception": false,
     "start_time": "2020-12-18T19:14:20.732750",
     "status": "completed"
    },
    "tags": []
   },
   "outputs": [],
   "source": [
    "test_audio = []\n",
    "test_labels = []\n",
    "\n",
    "for audio, label in test_ds:\n",
    "    test_audio.append(audio.numpy())\n",
    "    test_labels.append(label.numpy())\n",
    "\n",
    "test_audio = np.array(test_audio)\n",
    "test_labels = np.array(test_labels)"
   ]
  },
  {
   "cell_type": "code",
   "execution_count": null,
   "metadata": {
    "execution": {
     "iopub.execute_input": "2020-12-18T19:14:23.280551Z",
     "iopub.status.busy": "2020-12-18T19:14:23.279779Z",
     "iopub.status.idle": "2020-12-18T19:14:23.863222Z",
     "shell.execute_reply": "2020-12-18T19:14:23.862321Z"
    },
    "id": "ktUanr9mRZky",
    "papermill": {
     "duration": 1.1167,
     "end_time": "2020-12-18T19:14:23.863408",
     "exception": false,
     "start_time": "2020-12-18T19:14:22.746708",
     "status": "completed"
    },
    "tags": []
   },
   "outputs": [],
   "source": [
    "y_pred = np.argmax(model.predict(test_audio), axis=1)\n",
    "y_true = test_labels\n",
    "\n",
    "test_acc = sum(y_pred == y_true) / len(y_true)\n",
    "print(f'Test set accuracy: {test_acc:.0%}')"
   ]
  },
  {
   "cell_type": "markdown",
   "metadata": {
    "id": "en9Znt1NOabH",
    "papermill": {
     "duration": 0.536306,
     "end_time": "2020-12-18T19:14:24.883182",
     "exception": false,
     "start_time": "2020-12-18T19:14:24.346876",
     "status": "completed"
    },
    "tags": []
   },
   "source": [
    "### Display a confusion matrix\n",
    "\n",
    "A confusion matrix is helpful to see how well the model did on each of the commands in the test set."
   ]
  },
  {
   "cell_type": "code",
   "execution_count": null,
   "metadata": {
    "execution": {
     "iopub.execute_input": "2020-12-18T19:14:25.856225Z",
     "iopub.status.busy": "2020-12-18T19:14:25.855400Z",
     "iopub.status.idle": "2020-12-18T19:14:26.329443Z",
     "shell.execute_reply": "2020-12-18T19:14:26.328697Z"
    },
    "id": "LvoSAOiXU3lL",
    "papermill": {
     "duration": 0.961671,
     "end_time": "2020-12-18T19:14:26.329587",
     "exception": false,
     "start_time": "2020-12-18T19:14:25.367916",
     "status": "completed"
    },
    "tags": []
   },
   "outputs": [],
   "source": [
    "confusion_mtx = tf.math.confusion_matrix(y_true, y_pred) \n",
    "plt.figure(figsize=(10, 8))\n",
    "sns.heatmap(confusion_mtx, xticklabels=commands, yticklabels=commands, \n",
    "            annot=True, fmt='g')\n",
    "plt.xlabel('Prediction')\n",
    "plt.ylabel('Label')\n",
    "plt.show()"
   ]
  },
  {
   "cell_type": "markdown",
   "metadata": {
    "id": "mQGi_mzPcLvl",
    "papermill": {
     "duration": 0.487482,
     "end_time": "2020-12-18T19:14:27.293053",
     "exception": false,
     "start_time": "2020-12-18T19:14:26.805571",
     "status": "completed"
    },
    "tags": []
   },
   "source": [
    "## Run inference on an audio file\n",
    "\n",
    "Finally, verify the model's prediction output using an input audio file of someone saying \"no.\" How well does your model perform?"
   ]
  },
  {
   "cell_type": "code",
   "execution_count": null,
   "metadata": {
    "execution": {
     "iopub.execute_input": "2020-12-18T19:14:28.272995Z",
     "iopub.status.busy": "2020-12-18T19:14:28.271590Z",
     "iopub.status.idle": "2020-12-18T19:14:28.699372Z",
     "shell.execute_reply": "2020-12-18T19:14:28.698448Z"
    },
    "id": "zRxauKMdhofU",
    "papermill": {
     "duration": 0.926771,
     "end_time": "2020-12-18T19:14:28.699515",
     "exception": false,
     "start_time": "2020-12-18T19:14:27.772744",
     "status": "completed"
    },
    "tags": []
   },
   "outputs": [],
   "source": [
    "sample_file = data_dir/'no/01bb6a2a_nohash_0.wav'\n",
    "\n",
    "sample_ds = preprocess_dataset([str(sample_file)])\n",
    "\n",
    "for spectrogram, label in sample_ds.batch(1):\n",
    "  prediction = model(spectrogram)\n",
    "  plt.bar(commands, tf.nn.softmax(prediction[0]))\n",
    "  plt.title(f'Predictions for \"{commands[label[0]]}\"')\n",
    "  plt.show()"
   ]
  },
  {
   "cell_type": "markdown",
   "metadata": {
    "id": "VgWICqdqQNaQ",
    "papermill": {
     "duration": 0.480281,
     "end_time": "2020-12-18T19:14:29.666462",
     "exception": false,
     "start_time": "2020-12-18T19:14:29.186181",
     "status": "completed"
    },
    "tags": []
   },
   "source": [
    "You can see that your model very clearly recognized the audio command as \"no.\""
   ]
  },
  {
   "cell_type": "markdown",
   "metadata": {
    "id": "J3jF933m9z1J",
    "papermill": {
     "duration": 0.483098,
     "end_time": "2020-12-18T19:14:30.632223",
     "exception": false,
     "start_time": "2020-12-18T19:14:30.149125",
     "status": "completed"
    },
    "tags": []
   },
   "source": [
    "## Next steps\n",
    "\n",
    "This tutorial showed how you could do simple audio classification using a convolutional neural network with TensorFlow and Python.\n",
    "\n",
    "* To learn how to use transfer learning for audio classification, check out the [Sound classification with YAMNet](https://www.tensorflow.org/hub/tutorials/yamnet) tutorial.\n",
    "\n",
    "* To build your own interactive web app for audio classification, consider taking the [TensorFlow.js - Audio recognition using transfer learning codelab](https://codelabs.developers.google.com/codelabs/tensorflowjs-audio-codelab/index.html#0).\n",
    "\n",
    "* TensorFlow also has additional support for [audio data preparation and augmentation](https://www.tensorflow.org/io/tutorials/audio) to help with your own audio-based projects.\n"
   ]
  }
 ],
 "metadata": {
  "kernelspec": {
   "display_name": "Python 3",
   "language": "python",
   "name": "python3"
  },
  "language_info": {
   "codemirror_mode": {
    "name": "ipython",
    "version": 3
   },
   "file_extension": ".py",
   "mimetype": "text/x-python",
   "name": "python",
   "nbconvert_exporter": "python",
   "pygments_lexer": "ipython3",
   "version": "3.8.5"
  },
  "papermill": {
   "duration": 202.656372,
   "end_time": "2020-12-18T19:14:31.224839",
   "environment_variables": {},
   "exception": null,
   "input_path": "__notebook__.ipynb",
   "output_path": "__notebook__.ipynb",
   "parameters": {},
   "start_time": "2020-12-18T19:11:08.568467",
   "version": "2.1.0"
  }
 },
 "nbformat": 4,
 "nbformat_minor": 4
}
